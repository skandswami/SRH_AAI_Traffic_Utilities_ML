{
 "cells": [
  {
   "cell_type": "markdown",
   "id": "8155019b",
   "metadata": {},
   "source": [
    "## Imported libraries"
   ]
  },
  {
   "cell_type": "code",
   "execution_count": 1,
   "id": "ede0d571",
   "metadata": {},
   "outputs": [],
   "source": [
    "import numpy as np \n",
    "import pandas as pd \n",
    "import matplotlib.pyplot as plt\n",
    "import tensorflow as tf\n",
    "from PIL import Image\n",
    "import os\n",
    "os.chdir('D:/Study/2022/Python/Sample Projects/Traffic Signs Recognition/archive')\n",
    "from sklearn.model_selection import train_test_split\n",
    "from tensorflow.keras.utils import to_categorical\n",
    "from tensorflow.keras.models import Sequential, load_model\n",
    "from tensorflow.keras.layers import Conv2D, MaxPool2D, Dense, Flatten, Dropout"
   ]
  },
  {
   "cell_type": "markdown",
   "id": "41bf4fa6",
   "metadata": {},
   "source": [
    "## Lists and variable creation"
   ]
  },
  {
   "cell_type": "code",
   "execution_count": 10,
   "id": "86d927de",
   "metadata": {},
   "outputs": [],
   "source": [
    "# Empty list to store images converted to arrays and their corresponding class/folder number\n",
    "data = []\n",
    "labels = []\n",
    "# We have 43 different image folders in training data set\n",
    "totalClass = 43\n",
    "current_path = os.getcwd()"
   ]
  },
  {
   "cell_type": "code",
   "execution_count": 11,
   "id": "f67a9d35",
   "metadata": {},
   "outputs": [
    {
     "data": {
      "text/plain": [
       "'D:\\\\Study\\\\2022\\\\Python\\\\Sample Projects\\\\Traffic Signs Recognition\\\\archive'"
      ]
     },
     "execution_count": 11,
     "metadata": {},
     "output_type": "execute_result"
    }
   ],
   "source": [
    "current_path"
   ]
  },
  {
   "cell_type": "markdown",
   "id": "f59cf2a6",
   "metadata": {},
   "source": [
    "## Preprocessing images from the training data set"
   ]
  },
  {
   "cell_type": "code",
   "execution_count": 12,
   "id": "fee04dd4",
   "metadata": {},
   "outputs": [],
   "source": [
    "# iterate over the training data set folder. Each image converted to array and stored in data list. \n",
    "for i in range(totalClass):\n",
    "    path = os.path.join(current_path,'train',str(i))\n",
    "    images = os.listdir(path)\n",
    "    for a in images:\n",
    "        try:\n",
    "            image = Image.open(path + '\\\\'+ a)\n",
    "            image = image.resize((30,30))\n",
    "            image = np.array(image)\n",
    "            data.append(image)\n",
    "            labels.append(i)\n",
    "        except Exception as e:\n",
    "            print(e)"
   ]
  },
  {
   "cell_type": "markdown",
   "id": "7e134ec9",
   "metadata": {},
   "source": [
    "## Converting list of arrays into array of arrays"
   ]
  },
  {
   "cell_type": "code",
   "execution_count": 13,
   "id": "ac50a96b",
   "metadata": {},
   "outputs": [],
   "source": [
    "data = np.array(data)\n",
    "labels = np.array(labels)"
   ]
  },
  {
   "cell_type": "code",
   "execution_count": 15,
   "id": "2702ba0d",
   "metadata": {},
   "outputs": [],
   "source": [
    "# Creating a new directory to store above 2 numpy arrays in .npy file format, for future use\n",
    "# This file format makes incredibly fast reading speed enhancement over reading from plain text or CSV files.\n",
    "os.mkdir('training')"
   ]
  },
  {
   "cell_type": "code",
   "execution_count": 16,
   "id": "a01cfa6a",
   "metadata": {},
   "outputs": [],
   "source": [
    "np.save('./training/data',data)\n",
    "np.save('./training/target',labels)"
   ]
  },
  {
   "cell_type": "code",
   "execution_count": 18,
   "id": "4ad97829",
   "metadata": {},
   "outputs": [
    {
     "name": "stdout",
     "output_type": "stream",
     "text": [
      "(39209, 30, 30, 3) (39209,)\n"
     ]
    }
   ],
   "source": [
    "# To check shapes of data array and label array\n",
    "print(data.shape, labels.shape)"
   ]
  },
  {
   "cell_type": "markdown",
   "id": "57bc23e5",
   "metadata": {},
   "source": [
    "## Spliting arrays into 2 subsets"
   ]
  },
  {
   "cell_type": "code",
   "execution_count": 19,
   "id": "4467780d",
   "metadata": {},
   "outputs": [],
   "source": [
    "# training data (80%) and validation/testing data (20%). Spliting is good strategy because we can use test data \n",
    "# to test the model and since model has not seen test data before, we will get a good measurement of accuracy\n",
    "X_train, X_test, y_train, y_test = train_test_split(data, labels, test_size=0.2, random_state=0)"
   ]
  },
  {
   "cell_type": "code",
   "execution_count": 21,
   "id": "0ab6968b",
   "metadata": {},
   "outputs": [
    {
     "name": "stdout",
     "output_type": "stream",
     "text": [
      "(31367, 30, 30, 3) (7842, 30, 30, 3) (31367,) (7842,)\n"
     ]
    }
   ],
   "source": [
    "# shape of new arrays\n",
    "print(X_train.shape, X_test.shape, y_train.shape, y_test.shape)"
   ]
  },
  {
   "cell_type": "markdown",
   "id": "e95b26fb",
   "metadata": {},
   "source": [
    "## Converting labels to onehot encoding"
   ]
  },
  {
   "cell_type": "code",
   "execution_count": 22,
   "id": "57e73ee2",
   "metadata": {},
   "outputs": [],
   "source": [
    "y_train = to_categorical(y_train, 43)\n",
    "y_test = to_categorical(y_test, 43)"
   ]
  },
  {
   "cell_type": "markdown",
   "id": "705d4d6c",
   "metadata": {},
   "source": [
    "## Building the model "
   ]
  },
  {
   "cell_type": "code",
   "execution_count": 23,
   "id": "b37ce784",
   "metadata": {},
   "outputs": [],
   "source": [
    "# Intializing the forwardfeeding convolutional model using keras.Models\n",
    "model = Sequential()\n",
    "# Adding convolutional layer as our first hidden layer\n",
    "model.add(Conv2D(filters=32, kernel_size=(5,5), activation='relu', input_shape=X_train.shape[1:]))\n",
    "model.add(Conv2D(filters=32, kernel_size=(5,5), activation='relu'))\n",
    "# MaxPooling the data from a 2x2 subset \n",
    "model.add(MaxPool2D(pool_size=(2, 2)))\n",
    "# Taking every 1/4 tensors randomly and setting them to zero.\n",
    "model.add(Dropout(rate=0.25))\n",
    "# repeating the above process and second time\n",
    "model.add(Conv2D(filters=64, kernel_size=(3, 3), activation='relu'))\n",
    "model.add(Conv2D(filters=64, kernel_size=(3, 3), activation='relu'))\n",
    "model.add(MaxPool2D(pool_size=(2, 2)))\n",
    "model.add(Dropout(rate=0.25))\n",
    "# Flattening the 2D dataset \n",
    "model.add(Flatten())\n",
    "model.add(Dense(256, activation='relu'))\n",
    "model.add(Dropout(rate=0.5))\n",
    "# We have 43 classes that's why we have defined 43 in the dense\n",
    "model.add(Dense(43, activation='softmax'))"
   ]
  },
  {
   "cell_type": "code",
   "execution_count": 24,
   "id": "2bb7d855",
   "metadata": {},
   "outputs": [],
   "source": [
    "#Compilation of the model\n",
    "model.compile(loss='categorical_crossentropy', optimizer='adam', metrics=['accuracy'])"
   ]
  },
  {
   "cell_type": "code",
   "execution_count": 25,
   "id": "a84bedac",
   "metadata": {},
   "outputs": [
    {
     "name": "stdout",
     "output_type": "stream",
     "text": [
      "Epoch 1/21\n",
      "981/981 [==============================] - 84s 85ms/step - loss: 3.3828 - accuracy: 0.1253 - val_loss: 1.6068 - val_accuracy: 0.5737\n",
      "Epoch 2/21\n",
      "981/981 [==============================] - 85s 87ms/step - loss: 1.1210 - accuracy: 0.6814 - val_loss: 0.3981 - val_accuracy: 0.9010\n",
      "Epoch 3/21\n",
      "981/981 [==============================] - 83s 85ms/step - loss: 0.5368 - accuracy: 0.8451 - val_loss: 0.2072 - val_accuracy: 0.9461\n",
      "Epoch 4/21\n",
      "981/981 [==============================] - 83s 85ms/step - loss: 0.3591 - accuracy: 0.8971 - val_loss: 0.1423 - val_accuracy: 0.9637\n",
      "Epoch 5/21\n",
      "981/981 [==============================] - 82s 84ms/step - loss: 0.3203 - accuracy: 0.9123 - val_loss: 0.1147 - val_accuracy: 0.9730\n",
      "Epoch 6/21\n",
      "981/981 [==============================] - 83s 85ms/step - loss: 0.2779 - accuracy: 0.9249 - val_loss: 0.0911 - val_accuracy: 0.9762\n",
      "Epoch 7/21\n",
      "981/981 [==============================] - 88s 89ms/step - loss: 0.2502 - accuracy: 0.9334 - val_loss: 0.0667 - val_accuracy: 0.9816\n",
      "Epoch 8/21\n",
      "981/981 [==============================] - 82s 84ms/step - loss: 0.2475 - accuracy: 0.9356 - val_loss: 0.0907 - val_accuracy: 0.9778\n",
      "Epoch 9/21\n",
      "981/981 [==============================] - 85s 86ms/step - loss: 0.2410 - accuracy: 0.9365 - val_loss: 0.0909 - val_accuracy: 0.9742\n",
      "Epoch 10/21\n",
      "981/981 [==============================] - 85s 86ms/step - loss: 0.2431 - accuracy: 0.9363 - val_loss: 0.0655 - val_accuracy: 0.9855\n",
      "Epoch 11/21\n",
      "981/981 [==============================] - 87s 89ms/step - loss: 0.2386 - accuracy: 0.9390 - val_loss: 0.0869 - val_accuracy: 0.9797\n",
      "Epoch 12/21\n",
      "981/981 [==============================] - 88s 89ms/step - loss: 0.2354 - accuracy: 0.9403 - val_loss: 0.0530 - val_accuracy: 0.9858\n",
      "Epoch 13/21\n",
      "981/981 [==============================] - 92s 94ms/step - loss: 0.1948 - accuracy: 0.9512 - val_loss: 0.0466 - val_accuracy: 0.9895\n",
      "Epoch 14/21\n",
      "981/981 [==============================] - 104s 106ms/step - loss: 0.2393 - accuracy: 0.9399 - val_loss: 0.0548 - val_accuracy: 0.9865\n",
      "Epoch 15/21\n",
      "981/981 [==============================] - 94s 96ms/step - loss: 0.2088 - accuracy: 0.9479 - val_loss: 0.0424 - val_accuracy: 0.9887\n",
      "Epoch 16/21\n",
      "981/981 [==============================] - 100s 102ms/step - loss: 0.2081 - accuracy: 0.9488 - val_loss: 0.0951 - val_accuracy: 0.9741\n",
      "Epoch 17/21\n",
      "981/981 [==============================] - 96s 98ms/step - loss: 0.2087 - accuracy: 0.9488 - val_loss: 0.0522 - val_accuracy: 0.9872\n",
      "Epoch 18/21\n",
      "981/981 [==============================] - 89s 90ms/step - loss: 0.2256 - accuracy: 0.9469 - val_loss: 0.0717 - val_accuracy: 0.9816\n",
      "Epoch 19/21\n",
      "981/981 [==============================] - 100s 102ms/step - loss: 0.2200 - accuracy: 0.9487 - val_loss: 0.0632 - val_accuracy: 0.9837\n",
      "Epoch 20/21\n",
      "981/981 [==============================] - 93s 95ms/step - loss: 0.2593 - accuracy: 0.9400 - val_loss: 0.0800 - val_accuracy: 0.9784\n",
      "Epoch 21/21\n",
      "981/981 [==============================] - 87s 88ms/step - loss: 0.1844 - accuracy: 0.9557 - val_loss: 0.0587 - val_accuracy: 0.9857\n"
     ]
    }
   ],
   "source": [
    "epochs = 21\n",
    "history = model.fit(X_train, y_train, batch_size=32, epochs=epochs, validation_data=(X_test, y_test))"
   ]
  },
  {
   "cell_type": "markdown",
   "id": "6be29053",
   "metadata": {},
   "source": [
    "## Plotting graphs"
   ]
  },
  {
   "cell_type": "code",
   "execution_count": 26,
   "id": "7a2e96b5",
   "metadata": {},
   "outputs": [
    {
     "data": {
      "image/png": "[encoded data removed]",
      "text/plain": [
       "<Figure size 640x480 with 1 Axes>"
      ]
     },
     "metadata": {},
     "output_type": "display_data"
    }
   ],
   "source": [
    "# Below graphs highlights stored accuracy and validation accuracy data to their respective epoch. \n",
    "plt.figure(0)\n",
    "plt.plot(history.history['accuracy'], label='training accuracy')\n",
    "plt.plot(history.history['val_accuracy'], label='val accuracy')\n",
    "plt.title('Accuracy')\n",
    "plt.xlabel('epochs')\n",
    "plt.ylabel('accuracy')\n",
    "plt.legend()\n",
    "plt.show()"
   ]
  },
  {
   "cell_type": "code",
   "execution_count": 27,
   "id": "725925ef",
   "metadata": {},
   "outputs": [
    {
     "data": {
      "image/png": "[encoded data removed]",
      "text/plain": [
       "<Figure size 640x480 with 1 Axes>"
      ]
     },
     "metadata": {},
     "output_type": "display_data"
    }
   ],
   "source": [
    "# Below graphs highlights stored accuracy loss and validation accuracy loss data to their respective epoch. \n",
    "plt.plot(history.history['loss'], label='training loss')\n",
    "plt.plot(history.history['val_loss'], label='val loss')\n",
    "plt.title('Loss')\n",
    "plt.xlabel('epochs')\n",
    "plt.ylabel('loss')\n",
    "plt.legend()\n",
    "plt.show()"
   ]
  },
  {
   "cell_type": "markdown",
   "id": "bfb361af",
   "metadata": {},
   "source": [
    "## Using the model to run a test on test data"
   ]
  },
  {
   "cell_type": "code",
   "execution_count": 28,
   "id": "34596ace",
   "metadata": {},
   "outputs": [],
   "source": [
    "def testing(testcsv):\n",
    "    y_test = pd.read_csv(testcsv)\n",
    "    label = y_test[\"ClassId\"].values\n",
    "    imgs = y_test[\"Path\"].values\n",
    "    data=[]\n",
    "    for img in imgs:\n",
    "        image = Image.open(img)\n",
    "        image = image.resize((30,30))\n",
    "        data.append(np.array(image))\n",
    "    X_test=np.array(data)\n",
    "    return X_test,label"
   ]
  },
  {
   "cell_type": "code",
   "execution_count": 29,
   "id": "1c547eea",
   "metadata": {},
   "outputs": [],
   "source": [
    "X_test, label = testing('Test.csv')"
   ]
  },
  {
   "cell_type": "code",
   "execution_count": 30,
   "id": "eaa2733d",
   "metadata": {},
   "outputs": [
    {
     "data": {
      "text/plain": [
       "array([16,  1, 38, ..., 32,  7, 10], dtype=int64)"
      ]
     },
     "execution_count": 30,
     "metadata": {},
     "output_type": "execute_result"
    }
   ],
   "source": [
    "predict_x=model.predict(X_test) \n",
    "Y_pred=np.argmax(predict_x,axis=1)\n",
    "Y_pred"
   ]
  },
  {
   "cell_type": "markdown",
   "id": "ff6c2634",
   "metadata": {},
   "source": [
    "## Calculating accuracy score"
   ]
  },
  {
   "cell_type": "code",
   "execution_count": 36,
   "id": "a830e563",
   "metadata": {},
   "outputs": [
    {
     "name": "stdout",
     "output_type": "stream",
     "text": [
      "94.9802 %\n"
     ]
    }
   ],
   "source": [
    "from sklearn.metrics import accuracy_score\n",
    "acc_score = accuracy_score(label, Y_pred)\n",
    "print(\"{:.4f}\".format(acc_score * 100),\"%\")"
   ]
  },
  {
   "cell_type": "markdown",
   "id": "7dfb483c",
   "metadata": {},
   "source": [
    "## Save the model"
   ]
  },
  {
   "cell_type": "code",
   "execution_count": 37,
   "id": "bede9da9",
   "metadata": {},
   "outputs": [],
   "source": [
    "model.save(\"./training/TSR.h5\")"
   ]
  },
  {
   "cell_type": "markdown",
   "id": "ad0bcd3b",
   "metadata": {},
   "source": [
    "## Load the model"
   ]
  },
  {
   "cell_type": "code",
   "execution_count": 38,
   "id": "2cd218e3",
   "metadata": {},
   "outputs": [],
   "source": [
    "import os\n",
    "os.chdir(r'D:/Study/2022/Python/Sample Projects/Traffic Signs Recognition/archive')\n",
    "from tensorflow.keras.models import load_model\n",
    "model = load_model('./training/TSR.h5')"
   ]
  },
  {
   "cell_type": "code",
   "execution_count": 39,
   "id": "f886cbd8",
   "metadata": {},
   "outputs": [],
   "source": [
    "# A dictionary to indicate each indiviual class to its traffic sign meaning\n",
    "classes = { 0:'Speed limit (20km/h)',\n",
    "            1:'Speed limit (30km/h)', \n",
    "            2:'Speed limit (50km/h)', \n",
    "            3:'Speed limit (60km/h)', \n",
    "            4:'Speed limit (70km/h)', \n",
    "            5:'Speed limit (80km/h)', \n",
    "            6:'End of speed limit (80km/h)', \n",
    "            7:'Speed limit (100km/h)', \n",
    "            8:'Speed limit (120km/h)', \n",
    "            9:'No passing', \n",
    "            10:'No passing veh over 3.5 tons', \n",
    "            11:'Right-of-way at intersection', \n",
    "            12:'Priority road', \n",
    "            13:'Yield', \n",
    "            14:'Stop', \n",
    "            15:'No vehicles', \n",
    "            16:'Veh > 3.5 tons prohibited', \n",
    "            17:'No entry', \n",
    "            18:'General caution', \n",
    "            19:'Dangerous curve left', \n",
    "            20:'Dangerous curve right', \n",
    "            21:'Double curve', \n",
    "            22:'Bumpy road', \n",
    "            23:'Slippery road', \n",
    "            24:'Road narrows on the right', \n",
    "            25:'Road work', \n",
    "            26:'Traffic signals', \n",
    "            27:'Pedestrians', \n",
    "            28:'Children crossing',\n",
    "            29:'Bicycles crossing', \n",
    "            30:'Beware of ice/snow',\n",
    "            31:'Wild animals crossing', \n",
    "            32:'End speed + passing limits', \n",
    "            33:'Turn right ahead', \n",
    "            34:'Turn left ahead', \n",
    "            35:'Ahead only', \n",
    "            36:'Go straight or right', \n",
    "            37:'Go straight or left', \n",
    "            38:'Keep right', \n",
    "            39:'Keep left', \n",
    "            40:'Roundabout mandatory', \n",
    "            41:'End of no passing', \n",
    "            42:'End no passing veh > 3.5 tons' }"
   ]
  },
  {
   "cell_type": "code",
   "execution_count": 43,
   "id": "623e492d",
   "metadata": {},
   "outputs": [],
   "source": [
    "from PIL import Image\n",
    "import numpy as np\n",
    "import matplotlib.pyplot as plt\n",
    "def test_on_img(img):\n",
    "    data=[]\n",
    "    image = Image.open(img)\n",
    "    image = image.resize((30,30))\n",
    "    data.append(np.array(image))\n",
    "    X_test=np.array(data)\n",
    "    predict_x=model.predict(X_test) \n",
    "    Y_pred=np.argmax(predict_x,axis=1)\n",
    "    #Y_pred = model.predict_classes(X_test)\n",
    "    return image,Y_pred"
   ]
  },
  {
   "cell_type": "code",
   "execution_count": 47,
   "id": "a0c56e13",
   "metadata": {},
   "outputs": [
    {
     "name": "stdout",
     "output_type": "stream",
     "text": [
      "Predicted traffic sign is:  Speed limit (60km/h)\n"
     ]
    },
    {
     "data": {
      "image/png": "[encoded data removed]",
      "text/plain": [
       "<Figure size 640x480 with 1 Axes>"
      ]
     },
     "metadata": {},
     "output_type": "display_data"
    }
   ],
   "source": [
    "plot,prediction = test_on_img(r'D:\\Study\\2022\\Python\\Sample Projects\\Traffic Signs Recognition\\archive\\Test\\00420.png')\n",
    "s = [str(i) for i in prediction] \n",
    "a = int(\"\".join(s)) \n",
    "print(\"Predicted traffic sign is: \", classes[a])\n",
    "plt.imshow(plot)\n",
    "plt.show()"
   ]
  },
  {
   "cell_type": "code",
   "execution_count": null,
   "id": "8f50fece",
   "metadata": {},
   "outputs": [],
   "source": []
  }
 ],
 "metadata": {
  "kernelspec": {
   "display_name": "youtube-tut",
   "language": "python",
   "name": "youtube-tut"
  },
  "language_info": {
   "codemirror_mode": {
    "name": "ipython",
    "version": 3
   },
   "file_extension": ".py",
   "mimetype": "text/x-python",
   "name": "python",
   "nbconvert_exporter": "python",
   "pygments_lexer": "ipython3",
   "version": "3.7.13"
  }
 },
 "nbformat": 4,
 "nbformat_minor": 5
}
